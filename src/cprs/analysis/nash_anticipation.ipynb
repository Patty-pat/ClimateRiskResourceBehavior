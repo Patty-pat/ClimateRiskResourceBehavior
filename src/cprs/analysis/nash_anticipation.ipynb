{
 "cells": [
  {
   "cell_type": "code",
   "execution_count": null,
   "metadata": {},
   "outputs": [],
   "source": [
    "import matplotlib.pyplot as plt\n",
    "import pandas as pd\n",
    "import seaborn as sns\n",
    "\n",
    "from cprs.config import BLD, SRC\n",
    "\n",
    "# Replace 'your_excel_file.xlsx' with your actual file path\n",
    "# Make sure the sheet name is correct\n",
    "df = pd.read_excel(SRC / \"data\" / \"Nash.xlsx\", sheet_name=\"Anticipation\")"
   ]
  },
  {
   "cell_type": "code",
   "execution_count": null,
   "metadata": {},
   "outputs": [],
   "source": [
    "list_of_columns = df.columns.tolist()\n",
    "print(list_of_columns)"
   ]
  },
  {
   "cell_type": "code",
   "execution_count": null,
   "metadata": {},
   "outputs": [],
   "source": [
    "# Creating subplots\n",
    "plt.figure(figsize=(8, 6))\n",
    "\n",
    "# Plotting connected scatter plots and line plots\n",
    "# Replace 'tot_extract' and 'Round' with the actual column names if they differ\n",
    "sns.lineplot(\n",
    "    x=\"Round\",\n",
    "    y=\"tot_extract\",\n",
    "    data=df[df[\"Type\"] == 1],\n",
    "    marker=\"\",\n",
    "    label=\"Nash Total Group Extraction\",\n",
    ")\n",
    "sns.lineplot(\n",
    "    x=\"Round\",\n",
    "    y=\"tot_extract\",\n",
    "    data=df[df[\"Type\"] == 5],\n",
    "    marker=\"\",\n",
    "    label=\"Cooperative Optimum Total Group Extraction\",\n",
    ")\n",
    "sns.lineplot(\n",
    "    x=\"Round\",\n",
    "    y=\"Start_Stock\",\n",
    "    data=df[df[\"Type\"] == 1],\n",
    "    marker=\"o\",\n",
    "    color=\"black\",\n",
    "    label=\"Nash Equilibrium\",\n",
    ")\n",
    "sns.lineplot(\n",
    "    x=\"Round\",\n",
    "    y=\"Start_Stock\",\n",
    "    data=df[df[\"Type\"] == 5],\n",
    "    marker=\"o\",\n",
    "    color=\"maroon\",\n",
    "    label=\"Cooperative Optimum\",\n",
    ")\n",
    "\n",
    "# Customizing the plot\n",
    "plt.title(\"Nash Equilibrium and Cooperative Optimum in CPR Aggregate Extraction\")\n",
    "plt.legend(fontsize=\"small\")\n",
    "plt.ylim(-5, 115)  # Adjust this range as necessary\n",
    "plt.xticks([1, 2, 3, 4, 5])  # Adjust these ticks as necessary\n",
    "plt.xlabel(\"Round\")\n",
    "plt.ylabel(\"Starting Number of Trees\")\n",
    "plt.legend(loc=\"best\")\n",
    "\n",
    "# Remove the grids\n",
    "sns.set_style(\"white\", {\"axes.grid\": False})\n",
    "\n",
    "plt.savefig(BLD / \"graphs\" / \"0.Nash&Cooperative Anticipation.png\")\n",
    "plt.show()"
   ]
  },
  {
   "cell_type": "code",
   "execution_count": null,
   "metadata": {},
   "outputs": [],
   "source": [
    "df = df[df[\"Expected Total Social Payoff\"].notna()]\n",
    "\n",
    "# Filtering data for HIGH and LOW probabilities\n",
    "df_high = df[df[\"hi-lo\"] == \"HIGH\"]\n",
    "df_low = df[df[\"hi-lo\"] == \"LOW\"]\n",
    "\n",
    "# Create the plot\n",
    "plt.figure(figsize=(8, 6))\n",
    "sns.lineplot(\n",
    "    x=\"Take\",\n",
    "    y=\"Expected Total Social Payoff\",\n",
    "    data=df_high,\n",
    "    marker=\"o\",\n",
    "    label=\"High Probability\",\n",
    ")\n",
    "sns.lineplot(\n",
    "    x=\"Take\",\n",
    "    y=\"Expected Total Social Payoff\",\n",
    "    data=df_low,\n",
    "    marker=\"o\",\n",
    "    label=\"Low Probability\",\n",
    ")\n",
    "\n",
    "# Adding an xline at 3\n",
    "plt.axvline(x=3, color=\"k\", linestyle=\"--\", label=\"Cut-off\")\n",
    "\n",
    "# Customizing the plot\n",
    "plt.title(\n",
    "    \"Trade-off Between Potential Payoff Selfish vs Efficient Social Optimum by Risk Type\",\n",
    ")\n",
    "plt.legend(fontsize=\"medium\")\n",
    "plt.gca().set_facecolor(\"white\")\n",
    "\n",
    "# Show or save the plot\n",
    "plt.savefig(BLD / \"graphs\" / \"0.Tradeoff2.png\")\n",
    "plt.show()"
   ]
  },
  {
   "cell_type": "code",
   "execution_count": null,
   "metadata": {},
   "outputs": [],
   "source": [
    "\n"
   ]
  }
 ],
 "metadata": {
  "language_info": {
   "codemirror_mode": {
    "name": "ipython",
    "version": 3
   },
   "file_extension": ".py",
   "mimetype": "text/x-python",
   "name": "python",
   "nbconvert_exporter": "python",
   "pygments_lexer": "ipython3"
  }
 },
 "nbformat": 4,
 "nbformat_minor": 2
}
