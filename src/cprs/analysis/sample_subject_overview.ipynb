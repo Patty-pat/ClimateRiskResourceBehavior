{
 "cells": [
  {
   "cell_type": "code",
   "execution_count": null,
   "metadata": {},
   "outputs": [],
   "source": [
    "import pandas as pd\n",
    "\n",
    "base_df = pd.read_feather(\"baseline_clean.arrow\")\n",
    "\n",
    "anti_df = pd.read_feather(\"anticipation_clean.arrow\")\n",
    "\n",
    "scarcity_df = pd.read_feather(\"shock_clean.arrow\")"
   ]
  }
 ],
 "metadata": {
  "language_info": {
   "name": "python"
  }
 },
 "nbformat": 4,
 "nbformat_minor": 2
}
