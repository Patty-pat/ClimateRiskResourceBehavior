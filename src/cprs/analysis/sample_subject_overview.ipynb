{
 "cells": [
  {
   "cell_type": "code",
   "execution_count": null,
   "metadata": {},
   "outputs": [],
   "source": [
    "import pandas as pd\n",
    "\n",
    "base_df = pd.read_feather(\"baseline_clean.arrow\")\n",
    "\n",
    "anti_df = pd.read_feather(\"anticipation_clean.arrow\")\n",
    "merged_df = pd.merge(\n",
    "    base_df,\n",
    "    anti_df,\n",
    "    on=[\"PLAYER_NUM\", \"GROUPID_ALL\", \"ROUND\"],\n",
    "    how=\"left\",\n",
    ")\n",
    "\n",
    "scarcity_df = pd.read_feather(\"shock_clean.arrow\")\n",
    "merged_df = pd.merge(\n",
    "    merged_df,\n",
    "    shock_df,\n",
    "    on=[\"PLAYER_NUM\", \"GROUPID_ALL\", \"ROUND\"],\n",
    "    how=\"left\",\n",
    ")\n",
    "\n",
    "quest_df = pd.read_stata(\"path_to_QUEST.dta\")\n",
    "merged_df = pd.merge(merged_df, quest_df, on=[\"PLAYER_NUM\", \"GROUPID_ALL\"], how=\"left\")"
   ]
  }
 ],
 "metadata": {
  "language_info": {
   "name": "python"
  }
 },
 "nbformat": 4,
 "nbformat_minor": 2
}
