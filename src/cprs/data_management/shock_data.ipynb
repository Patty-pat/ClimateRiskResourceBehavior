{
 "cells": [
  {
   "cell_type": "code",
   "execution_count": null,
   "metadata": {},
   "outputs": [],
   "source": [
    "import pandas as pd\n",
    "\n",
    "from cprs.config import BLD\n",
    "\n",
    "# Read the arrow file\n",
    "df_main = pd.read_feather(BLD / \"data\" / \"data_clean.arrow\")\n",
    "df_combined = pd.DataFrame()"
   ]
  },
  {
   "cell_type": "code",
   "execution_count": null,
   "metadata": {},
   "outputs": [],
   "source": [
    "df_combined"
   ]
  },
  {
   "cell_type": "code",
   "execution_count": null,
   "metadata": {},
   "outputs": [],
   "source": [
    "for j in range(1, 6):\n",
    "    # Define columns to keep\n",
    "    cols_to_keep = [\n",
    "        \"PLAYER_NUM\",\n",
    "        \"LAB_SESSION\",\n",
    "        \"GROUPID_ALL\",\n",
    "        \"participant_id_in_session\",\n",
    "        \"high_probability\",\n",
    "        \"shock\",\n",
    "        \"groupid3\",\n",
    "        \"memberid3\",\n",
    "    ] + [col for col in df_main.columns if col.startswith(f\"cs4_{j}\")]\n",
    "\n",
    "    # Keep only the selected columns\n",
    "    df_subset = df_main[cols_to_keep]\n",
    "\n",
    "    # Rename columns by appending '_1' to each of the selected 'cs2_{j}' columns\n",
    "    for col in df_subset.columns:\n",
    "        if col.startswith(f\"cs4_{j}\"):\n",
    "            df_subset = df_subset.rename(columns={col: col[5:] + \"_3\"})\n",
    "\n",
    "    df_combined = pd.concat([df_combined, df_subset], ignore_index=True)"
   ]
  },
  {
   "cell_type": "code",
   "execution_count": null,
   "metadata": {},
   "outputs": [],
   "source": [
    "df_combined"
   ]
  },
  {
   "cell_type": "code",
   "execution_count": null,
   "metadata": {},
   "outputs": [],
   "source": [
    "# Creating new columns\n",
    "df_combined[\"ROUND\"] = df_combined[\"subsessionround_number_3\"]\n",
    "df_combined[\"rel_playertake_3\"] = (\n",
    "    df_combined[\"playertake_3\"] / df_combined[\"groupceiling_group_take_3\"]\n",
    ")\n",
    "df_combined[\"rel_grouptake_3\"] = df_combined[\"grouptotal_group_take_3\"] / (\n",
    "    df_combined[\"groupceiling_group_take_3\"] * 3\n",
    ")\n",
    "\n",
    "\n",
    "# Create start trees\n",
    "df_combined[\"start_trees_3\"] = df_combined[\"groupcurrent_trees_3\"].shift(1)\n",
    "# Replace NaN values in start_trees_1 with 50\n",
    "df_combined.loc[\n",
    "    (df_combined[\"start_trees_3\"].isna()) & (df_combined[\"ROUND\"] == 1),\n",
    "    \"start_trees_3\",\n",
    "] = 50\n",
    "\n",
    "df_combined[\"rel_starttrees_3\"] = df_combined[\"start_trees_3\"] / 50"
   ]
  },
  {
   "cell_type": "code",
   "execution_count": null,
   "metadata": {},
   "outputs": [],
   "source": [
    "df_combined"
   ]
  },
  {
   "cell_type": "code",
   "execution_count": null,
   "metadata": {},
   "outputs": [],
   "source": [
    "# Then, create the 'othertake' variables using groupby and sum\n",
    "# We use a loop to iterate over the different member IDs\n",
    "for i in range(1, 4):\n",
    "    # Define a new column name\n",
    "    new_column = f\"othertake{i}\"\n",
    "\n",
    "    # Apply the conditional sum grouped by 'GROUPID_ALL' and 'ROUND'\n",
    "    df_combined[new_column] = df_combined.groupby([\"GROUPID_ALL\", \"ROUND\"])[\n",
    "        \"playertake_3\"\n",
    "    ].transform(lambda x: x[df_combined[\"memberid3\"] != i].sum())\n",
    "\n",
    "# Create 'other_take' variables using groupby and max\n",
    "for i in range(1, 4):\n",
    "    new_column = f\"other_take{i}\"\n",
    "    df_combined[new_column] = df_combined.groupby([\"GROUPID_ALL\", \"ROUND\"])[\n",
    "        f\"othertake{i}\"\n",
    "    ].transform(\"max\")\n",
    "\n",
    "# Initialize the 'others_take_1' column with NaNs (pandas' equivalent to Stata's \".\")\n",
    "df_combined[\"others_take_3\"] = pd.NA\n",
    "\n",
    "# Populate 'others_take_1' based on memberid1\n",
    "for i in range(1, 4):\n",
    "    df_combined.loc[df_combined[\"memberid3\"] == i, \"others_take_3\"] = df_combined[\n",
    "        f\"other_take{i}\"\n",
    "    ]\n",
    "\n",
    "rename_dict = {\n",
    "    \"participant_id_in_session\": \"playerid3\",\n",
    "    \"subsessionround_number_3\": \"round_num_3\",\n",
    "    \"playerplayer_history_take_3\": \"player_history_3\",\n",
    "    \"grouptotal_group_take_3\": \"total_group_take_3\",\n",
    "    \"groupcurrent_trees_after_take_3\": \"current_trees_af_3\",\n",
    "    \"groupcurrent_trees_3\": \"current_trees_3\",\n",
    "    \"groupregrowth_3\": \"regrowth_3\",\n",
    "}\n",
    "\n",
    "# Renaming the columns\n",
    "df_combined = df_combined.rename(columns=rename_dict)"
   ]
  },
  {
   "cell_type": "code",
   "execution_count": null,
   "metadata": {},
   "outputs": [],
   "source": [
    "df_combined"
   ]
  },
  {
   "cell_type": "code",
   "execution_count": null,
   "metadata": {},
   "outputs": [],
   "source": [
    "# Reorder ROUND after GROUPID\n",
    "cols_to_order = [\"PLAYER_NUM\", \"LAB_SESSION\", \"GROUPID_ALL\", \"ROUND\"]\n",
    "new_columns = cols_to_order + (df_combined.columns.drop(cols_to_order).tolist())\n",
    "df_combined = df_combined[new_columns]\n",
    "\n",
    "# Sorting the DataFrame for the following operations\n",
    "df_combined = df_combined.sort_values(by=[\"GROUPID_ALL\", \"ROUND\", \"memberid3\"])\n",
    "\n",
    "# Dropping intermediate columns\n",
    "df_combined = df_combined.drop(\n",
    "    columns=[\n",
    "        \"playerrole_3\",\n",
    "        \"othertake1\",\n",
    "        \"othertake2\",\n",
    "        \"othertake3\",\n",
    "        \"other_take1\",\n",
    "        \"other_take2\",\n",
    "        \"other_take3\",\n",
    "    ],\n",
    ")\n",
    "\n",
    "# Sorting the DataFrame\n",
    "df_combined = df_combined.sort_values(by=[\"ROUND\", \"GROUPID_ALL\"])\n",
    "\n",
    "# Save the combined dataframe to a new file\n",
    "df_combined.to_feather(BLD / \"data\" / \"shock.arrow\")"
   ]
  },
  {
   "cell_type": "code",
   "execution_count": null,
   "metadata": {},
   "outputs": [],
   "source": [
    "df_combined"
   ]
  },
  {
   "cell_type": "code",
   "execution_count": null,
   "metadata": {},
   "outputs": [],
   "source": [
    "list_of_columns = df_combined.columns.tolist()\n",
    "print(list_of_columns)"
   ]
  },
  {
   "cell_type": "code",
   "execution_count": null,
   "metadata": {},
   "outputs": [],
   "source": []
  }
 ],
 "metadata": {
  "language_info": {
   "codemirror_mode": {
    "name": "ipython",
    "version": 3
   },
   "file_extension": ".py",
   "mimetype": "text/x-python",
   "name": "python",
   "nbconvert_exporter": "python",
   "pygments_lexer": "ipython3"
  }
 },
 "nbformat": 4,
 "nbformat_minor": 2
}
