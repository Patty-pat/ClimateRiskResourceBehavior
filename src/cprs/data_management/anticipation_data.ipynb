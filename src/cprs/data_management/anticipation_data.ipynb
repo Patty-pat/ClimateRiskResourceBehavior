{
 "cells": [
  {
   "cell_type": "code",
   "execution_count": null,
   "metadata": {},
   "outputs": [],
   "source": [
    "import pandas as pd\n",
    "\n",
    "from cprs.config import BLD\n",
    "\n",
    "# Read the arrow file\n",
    "df_main = pd.read_feather(BLD / \"data\" / \"data_clean.arrow\")\n",
    "df_combined = pd.DataFrame()\n",
    "\n",
    "for j in range(1, 6):\n",
    "    # Define columns to keep\n",
    "    cols_to_keep = [\n",
    "        \"PLAYER_NUM\",\n",
    "        \"LAB_SESSION\",\n",
    "        \"GROUPID_ALL\",\n",
    "        \"participant_id_in_session\",\n",
    "        \"participant_high_probability\",\n",
    "        \"participant_is_shock_group\",\n",
    "        \"high_probability\",\n",
    "        \"shock\",\n",
    "        \"groupid2\",\n",
    "        \"memberid2\",\n",
    "    ] + [col for col in df_main.columns if col.startswith(f\"cs3_{j}\")]\n",
    "\n",
    "    # Keep only the selected columns\n",
    "    df_subset = df_main[cols_to_keep]\n",
    "\n",
    "    # Rename columns by appending '_1' to each of the selected 'cs2_{j}' columns\n",
    "    for col in df_subset.columns:\n",
    "        if col.startswith(f\"cs3_{j}\"):\n",
    "            df_subset = df_subset.rename(columns={col: col[5:] + \"_2\"})\n",
    "\n",
    "    df_combined = pd.concat([df_combined, df_subset], ignore_index=True)"
   ]
  },
  {
   "cell_type": "code",
   "execution_count": null,
   "metadata": {},
   "outputs": [],
   "source": [
    "df_combined"
   ]
  },
  {
   "cell_type": "code",
   "execution_count": null,
   "metadata": {},
   "outputs": [],
   "source": [
    "# Creating new columns\n",
    "df_combined[\"ROUND\"] = df_combined[\"subsessionround_number_2\"]\n",
    "df_combined[\"relative_playertake_2\"] = df_combined[\"playertake_2\"] / 7\n",
    "df_combined[\"relative_grouptake_2\"] = df_combined[\"grouptotal_group_take_2\"] / 21\n",
    "\n",
    "\n",
    "# Create start trees\n",
    "df_combined[\"start_trees_2\"] = df_combined[\"groupcurrent_trees_2\"].shift(1)\n",
    "# Replace NaN values in start_trees_1 with 100\n",
    "df_combined.loc[\n",
    "    (df_combined[\"start_trees_2\"].isna()) & (df_combined[\"ROUND\"] == 1),\n",
    "    \"start_trees_2\",\n",
    "] = 100\n",
    "\n",
    "df_combined[\"rel_starttrees_2\"] = df_combined[\"start_trees_2\"] / 100"
   ]
  },
  {
   "cell_type": "code",
   "execution_count": null,
   "metadata": {},
   "outputs": [],
   "source": [
    "# Then, create the 'othertake' variables using groupby and sum\n",
    "# We use a loop to iterate over the different member IDs\n",
    "for i in range(1, 4):\n",
    "    # Define a new column name\n",
    "    new_column = f\"othertake{i}\"\n",
    "\n",
    "    # Apply the conditional sum grouped by 'GROUPID_ALL' and 'ROUND'\n",
    "    df_combined[new_column] = df_combined.groupby([\"GROUPID_ALL\", \"ROUND\"])[\n",
    "        \"playertake_2\"\n",
    "    ].transform(lambda x: x[df_combined[\"memberid2\"] != i].sum())\n",
    "\n",
    "# Create 'other_take' variables using groupby and max\n",
    "for i in range(1, 4):\n",
    "    new_column = f\"other_take{i}\"\n",
    "    df_combined[new_column] = df_combined.groupby([\"GROUPID_ALL\", \"ROUND\"])[\n",
    "        f\"othertake{i}\"\n",
    "    ].transform(\"max\")\n",
    "\n",
    "# Initialize the 'others_take_1' column with NaNs (pandas' equivalent to Stata's \".\")\n",
    "df_combined[\"others_take_2\"] = pd.NA\n",
    "\n",
    "# Populate 'others_take_1' based on memberid1\n",
    "for i in range(1, 4):\n",
    "    df_combined.loc[df_combined[\"memberid2\"] == i, \"others_take_2\"] = df_combined[\n",
    "        f\"other_take{i}\"\n",
    "    ]\n",
    "\n",
    "rename_dict = {\n",
    "    \"participant_id_in_session\": \"playerid2\",\n",
    "    \"subsessionround_number_2\": \"round_num_2\",\n",
    "    \"playerplayer_history_take_2\": \"player_history_2\",\n",
    "    \"grouptotal_group_take_2\": \"total_group_take_2\",\n",
    "    \"groupcurrent_trees_after_take_2\": \"current_trees_af_2\",\n",
    "    \"groupcurrent_trees_2\": \"current_trees_2\",\n",
    "    \"groupregrowth_2\": \"regrowth_2\",\n",
    "}\n",
    "\n",
    "# Renaming the columns\n",
    "df_combined = df_combined.rename(columns=rename_dict)"
   ]
  },
  {
   "cell_type": "code",
   "execution_count": null,
   "metadata": {},
   "outputs": [],
   "source": [
    "# Reorder ROUND after GROUPID\n",
    "cols_to_order = [\"PLAYER_NUM\", \"LAB_SESSION\", \"GROUPID_ALL\", \"ROUND\"]\n",
    "new_columns = cols_to_order + (df_combined.columns.drop(cols_to_order).tolist())\n",
    "df_combined = df_combined[new_columns]\n",
    "\n",
    "# Sorting the DataFrame for the following operations\n",
    "df_combined = df_combined.sort_values(by=[\"GROUPID_ALL\", \"ROUND\", \"memberid2\"])\n",
    "\n",
    "# Dropping intermediate columns\n",
    "df_combined = df_combined.drop(\n",
    "    columns=[\n",
    "        \"othertake1\",\n",
    "        \"othertake2\",\n",
    "        \"othertake3\",\n",
    "        \"other_take1\",\n",
    "        \"other_take2\",\n",
    "        \"other_take3\",\n",
    "    ],\n",
    ")\n",
    "\n",
    "# Sorting the DataFrame\n",
    "df_combined = df_combined.sort_values(by=[\"ROUND\", \"GROUPID_ALL\"])\n",
    "\n",
    "# Save the combined dataframe to a new file\n",
    "df_combined.to_feather(BLD / \"data\" / \"anticipation.arrow\")"
   ]
  },
  {
   "cell_type": "code",
   "execution_count": null,
   "metadata": {},
   "outputs": [],
   "source": [
    "df_combined"
   ]
  },
  {
   "cell_type": "code",
   "execution_count": null,
   "metadata": {},
   "outputs": [],
   "source": [
    "list_of_columns = df_combined.columns.tolist()\n",
    "print(list_of_columns)"
   ]
  },
  {
   "cell_type": "code",
   "execution_count": null,
   "metadata": {},
   "outputs": [],
   "source": []
  }
 ],
 "metadata": {
  "language_info": {
   "codemirror_mode": {
    "name": "ipython",
    "version": 3
   },
   "file_extension": ".py",
   "mimetype": "text/x-python",
   "name": "python",
   "nbconvert_exporter": "python",
   "pygments_lexer": "ipython3"
  }
 },
 "nbformat": 4,
 "nbformat_minor": 2
}
