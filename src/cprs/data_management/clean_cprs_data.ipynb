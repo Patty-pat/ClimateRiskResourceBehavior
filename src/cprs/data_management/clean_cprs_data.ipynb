{
 "cells": [
  {
   "cell_type": "markdown",
   "metadata": {},
   "source": [
    "### Cleaning Variable Names & Dropping Irrelevant Variables"
   ]
  },
  {
   "cell_type": "code",
   "execution_count": null,
   "metadata": {},
   "outputs": [],
   "source": [
    "import pandas as pd"
   ]
  },
  {
   "cell_type": "code",
   "execution_count": null,
   "metadata": {},
   "outputs": [],
   "source": [
    "file_path = r\"/Users/patriciasuratno/Documents/epp_project/ClimateRiskResourceBehavior/src/cprs/data/all_apps_wide_2024-01-18.csv\"\n",
    "df = pd.read_csv(file_path)"
   ]
  },
  {
   "cell_type": "code",
   "execution_count": null,
   "metadata": {},
   "outputs": [],
   "source": [
    "df"
   ]
  },
  {
   "cell_type": "code",
   "execution_count": null,
   "metadata": {},
   "outputs": [],
   "source": [
    "# Iterate over the columns in the dataframe\n",
    "for column in df.columns:\n",
    "    # Replace dots with underscores in the column name\n",
    "    new_column = column.replace(\".\", \"_\")\n",
    "    # Rename the column in the dataframe\n",
    "    df = df.rename(columns={column: new_column})"
   ]
  },
  {
   "cell_type": "code",
   "execution_count": null,
   "metadata": {},
   "outputs": [],
   "source": [
    "# Create PLAYER_NUM and set it to the row number\n",
    "df[\"PLAYER_NUM\"] = df.index + 1"
   ]
  },
  {
   "cell_type": "code",
   "execution_count": null,
   "metadata": {},
   "outputs": [],
   "source": [
    "# Create LAB_SESSION based on PLAYER_NUM\n",
    "df[\"LAB_SESSION\"] = pd.cut(\n",
    "    df[\"PLAYER_NUM\"],\n",
    "    bins=[0, 24, 48, float(\"inf\")],\n",
    "    labels=[1, 2, 3],\n",
    ")"
   ]
  },
  {
   "cell_type": "code",
   "execution_count": null,
   "metadata": {},
   "outputs": [],
   "source": [
    "df"
   ]
  },
  {
   "cell_type": "code",
   "execution_count": null,
   "metadata": {},
   "outputs": [],
   "source": [
    "list_of_columns = df.columns.tolist()\n",
    "print(list_of_columns)"
   ]
  },
  {
   "cell_type": "code",
   "execution_count": null,
   "metadata": {},
   "outputs": [],
   "source": [
    "# Create GROUPID_ALL based on cs2_forest5groupid_in_subsession and LAB_SESSION\n",
    "df[\"GROUPID_ALL\"] = df[\"CS2_Forest_5_group_id_in_subsession\"]\n",
    "df.loc[df[\"LAB_SESSION\"] == 2, \"GROUPID_ALL\"] += 8\n",
    "df.loc[df[\"LAB_SESSION\"] == 3, \"GROUPID_ALL\"] += 16"
   ]
  },
  {
   "cell_type": "code",
   "execution_count": null,
   "metadata": {},
   "outputs": [],
   "source": [
    "# Define the label mappings\n",
    "lab_session_labels = {1: \"Lab Session 1\", 2: \"Lab Session 2\", 3: \"Lab Session 3\"}\n",
    "\n",
    "groupid_all_labels = {\n",
    "    1: \"Group 1\",\n",
    "    2: \"Group 2\",\n",
    "    3: \"Group 3\",\n",
    "    4: \"Group 4\",\n",
    "    5: \"Group 5\",\n",
    "    6: \"Group 6\",\n",
    "    7: \"Group 7\",\n",
    "    8: \"Group 8\",\n",
    "    9: \"Group 9\",\n",
    "    10: \"Group 10\",\n",
    "    11: \"Group 11\",\n",
    "    12: \"Group 12\",\n",
    "    13: \"Group 13\",\n",
    "    14: \"Group 14\",\n",
    "    15: \"Group 15\",\n",
    "    16: \"Group 16\",\n",
    "    17: \"Group 17\",\n",
    "    18: \"Group 18\",\n",
    "    19: \"Group 19\",\n",
    "    20: \"Group 20\",\n",
    "    21: \"Group 21\",\n",
    "    22: \"Group 22\",\n",
    "    23: \"Group 23\",\n",
    "    24: \"Group 24\",\n",
    "}"
   ]
  },
  {
   "cell_type": "code",
   "execution_count": null,
   "metadata": {},
   "outputs": [],
   "source": [
    "# Replace numeric values with labels\n",
    "df[\"LAB_SESSION\"] = df[\"LAB_SESSION\"].replace(lab_session_labels)\n",
    "df[\"GROUPID_ALL\"] = df[\"GROUPID_ALL\"].replace(groupid_all_labels)"
   ]
  },
  {
   "cell_type": "code",
   "execution_count": null,
   "metadata": {},
   "outputs": [],
   "source": [
    "# Renaming variables for clarity\n",
    "df = df.rename(\n",
    "    columns={\n",
    "        \"PLAYER_NUM\": \"player's number in order of lab session\",\n",
    "        \"LAB_SESSION\": \"Lab Session Number 1, 2 or 3\",\n",
    "        \"GROUPID_ALL\": \"group id in all lab session\",\n",
    "    },\n",
    ")"
   ]
  },
  {
   "cell_type": "code",
   "execution_count": null,
   "metadata": {},
   "outputs": [],
   "source": [
    "# Reorder columns\n",
    "df = df[\n",
    "    [\n",
    "        \"player's number in order of lab session\",\n",
    "        \"Lab Session Number 1, 2 or 3\",\n",
    "        \"group id in all lab session\",\n",
    "    ]\n",
    "    + [\n",
    "        col\n",
    "        for col in df.columns\n",
    "        if col\n",
    "        not in [\n",
    "            \"player's number in order of lab session\",\n",
    "            \"Lab Session Number 1, 2 or 3\",\n",
    "            \"group id in all lab session\",\n",
    "        ]\n",
    "    ]\n",
    "]"
   ]
  },
  {
   "cell_type": "code",
   "execution_count": null,
   "metadata": {},
   "outputs": [],
   "source": [
    "# Renaming variables for better readability\n",
    "participant_vars = [col for col in df.columns if col.startswith(\"participant\")]\n",
    "for var in participant_vars:\n",
    "    new_var_name = \"p_\" + var[12:]  # Remove the first 11 characters and prepend 'p_'\n",
    "    df = df.rename(columns={var: new_var_name})\n",
    "\n",
    "columns_to_drop = [\n",
    "    \"p__is_bot\",\n",
    "    \"p__index_in_pages\",\n",
    "    \"p__max_page_index\",\n",
    "    \"p__current_app_name\",\n",
    "    \"p__current_page_name\",\n",
    "    \"p_mturk_worker_id\",\n",
    "    \"p_mturk_assignment_id\",\n",
    "    \"p_group_id\",\n",
    "    \"p_covid_okay\",\n",
    "    \"p_ceiling_group_take\",\n",
    "    \"p_take_ceiling\",\n",
    "]\n",
    "df = df.drop(columns=columns_to_drop, errors=\"ignore\")"
   ]
  },
  {
   "cell_type": "code",
   "execution_count": null,
   "metadata": {},
   "outputs": [],
   "source": [
    "# Renaming session level variables\n",
    "# Step 1: Get all column names starting with \"session\"\n",
    "session_vars = [col for col in df.columns if col.startswith(\"session\")]\n",
    "\n",
    "# Step 2: Rename these variables\n",
    "for var in session_vars:\n",
    "    new_var_name = \"s_\" + var[8:]  # Remove the first 7 characters and prepend 's_'\n",
    "    df = df.rename(columns={var: new_var_name})\n",
    "\n",
    "columns_to_drop = [\n",
    "    \"s_label\",\n",
    "    \"s_mturk_hitid\",\n",
    "    \"s_mturk_hitgroupid\",\n",
    "    \"s_comment\",\n",
    "    \"s_is_demo\",\n",
    "    \"s_configreal_world_currency\",\n",
    "    \"s_configparticipation_fee\",\n",
    "    \"s_is_shock_group\",\n",
    "    \"s_high_probability\",\n",
    "    \"s_shock_probability_high\",\n",
    "    \"s_shock_probability_low\",\n",
    "    \"s_group_id\",\n",
    "    \"s_ceiling_group_take\",\n",
    "]\n",
    "\n",
    "# Drop the specified columns\n",
    "df = df.drop(columns=columns_to_drop, errors=\"ignore\")"
   ]
  },
  {
   "cell_type": "code",
   "execution_count": null,
   "metadata": {},
   "outputs": [],
   "source": [
    "# Renaming CS1 Intro\n",
    "df = df.rename(columns={\"cs1_intro1playerid_in_group\": \"player_cubicle\"})\n",
    "\n",
    "# Label for 'player_cubicle' (Note: Pandas does not store labels like Stata. This is just a comment for reference)\n",
    "# \"Player's cubicle number in Lab Session 1\"\n",
    "\n",
    "# Step 2: Drop specific variables\n",
    "columns_to_drop = [\n",
    "    \"cs1_intro1playerrole\",\n",
    "    \"cs1_intro1playercode\",\n",
    "    \"cs1_intro1playerpayoff\",\n",
    "    \"cs1_intro1groupid_in_subsession\",\n",
    "    \"cs1_intro1subsessionround_number\",\n",
    "]\n",
    "df = df.drop(columns=columns_to_drop, errors=\"ignore\")\n",
    "\n",
    "# Step 3: Rename a group of variables (cs1_intro1player*)\n",
    "cs1_intro1player_vars = [\n",
    "    col for col in df.columns if col.startswith(\"cs1_intro1player\")\n",
    "]\n",
    "for var in cs1_intro1player_vars:\n",
    "    new_var_name = \"cs1_\" + var[16:]\n",
    "    df = df.rename(columns={var: new_var_name})\n",
    "\n",
    "# Step 4: Rename another group of variables (cs1_compr*)\n",
    "cs1_compr_vars = [col for col in df.columns if col.startswith(\"cs1_compr\")]\n",
    "for var in cs1_compr_vars:\n",
    "    new_var_name = \"cs2_compr\" + var[9:]\n",
    "    df = df.rename(columns={var: new_var_name})\n",
    "\n",
    "# Step 5: Rename and label another variable\n",
    "df = df.rename(columns={\"cs1_num_failed_attem\": \"failed_attem1\"})"
   ]
  },
  {
   "cell_type": "code",
   "execution_count": null,
   "metadata": {},
   "outputs": [],
   "source": [
    "# Renaming CS2 Forest\n",
    "\n",
    "# Renaming variables that follow a pattern\n",
    "for j in range(1, 6):\n",
    "    cs2_forest_vars = [col for col in df.columns if col.startswith(f\"cs2_forest{j}\")]\n",
    "    for var in cs2_forest_vars:\n",
    "        new_var_name = \"cs2_\" + var[10:]\n",
    "        df = df.rename(columns={var: new_var_name})"
   ]
  },
  {
   "cell_type": "code",
   "execution_count": null,
   "metadata": {},
   "outputs": [],
   "source": [
    "# Dropping specific variables\n",
    "for i in range(1, 5):\n",
    "    drop_vars = [\n",
    "        f\"cs2_{i}groupid_in_subsession\",\n",
    "        f\"cs2_{i}playerrole\",\n",
    "        f\"cs2_{i}playerid_in_group\",\n",
    "        f\"cs2_{i}playerpayoff\",\n",
    "        f\"cs2_{i}playerstage_points\",\n",
    "        f\"cs2_{i}playerpotential_payof\",\n",
    "    ]\n",
    "    df = df.drop(columns=drop_vars, errors=\"ignore\")"
   ]
  },
  {
   "cell_type": "code",
   "execution_count": null,
   "metadata": {},
   "outputs": [],
   "source": [
    "# Additional specific variables to drop\n",
    "df = df.drop(columns=[\"cs2_5playerrole\", \"cs2_5playerpayoff\"], errors=\"ignore\")"
   ]
  },
  {
   "cell_type": "code",
   "execution_count": null,
   "metadata": {},
   "outputs": [],
   "source": [
    "# Renaming certain variables\n",
    "df = df.rename(\n",
    "    columns={\n",
    "        \"cs2_5groupid_in_subsession\": \"groupid1\",\n",
    "        \"cs2_5playerid_in_group\": \"memberid1\",\n",
    "    },\n",
    ")"
   ]
  },
  {
   "cell_type": "code",
   "execution_count": null,
   "metadata": {},
   "outputs": [],
   "source": [
    "# Optional: Labeling variables (for documentation purposes)\n",
    "\n",
    "# Reordering columns\n",
    "order_columns = [\"groupid1\", \"memberid1\"] + [\n",
    "    col for col in df.columns if col.startswith(\"cs2_1playertake\")\n",
    "]"
   ]
  },
  {
   "cell_type": "code",
   "execution_count": null,
   "metadata": {},
   "outputs": [],
   "source": [
    "list_of_columns = df.columns.tolist()\n",
    "print(list_of_columns)"
   ]
  },
  {
   "cell_type": "code",
   "execution_count": null,
   "metadata": {},
   "outputs": [],
   "source": [
    "df"
   ]
  },
  {
   "cell_type": "code",
   "execution_count": null,
   "metadata": {},
   "outputs": [],
   "source": []
  }
 ],
 "metadata": {
  "language_info": {
   "codemirror_mode": {
    "name": "ipython",
    "version": 3
   },
   "file_extension": ".py",
   "mimetype": "text/x-python",
   "name": "python",
   "nbconvert_exporter": "python",
   "pygments_lexer": "ipython3"
  }
 },
 "nbformat": 4,
 "nbformat_minor": 2
}
