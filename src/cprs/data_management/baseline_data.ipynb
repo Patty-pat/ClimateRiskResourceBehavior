{
 "cells": [
  {
   "cell_type": "code",
   "execution_count": null,
   "metadata": {},
   "outputs": [],
   "source": [
    "import pandas as pd\n",
    "\n",
    "from cprs.config import BLD\n",
    "\n",
    "# Read the arrow file\n",
    "df_main = pd.read_feather(BLD / \"data\" / \"data_clean.arrow\")\n",
    "df_combined = pd.DataFrame()\n",
    "\n",
    "for j in range(1, 6):\n",
    "    # Define columns to keep\n",
    "    cols_to_keep = [\n",
    "        \"PLAYER_NUM\",\n",
    "        \"LAB_SESSION\",\n",
    "        \"GROUPID_ALL\",\n",
    "        \"participant_id_in_session\",\n",
    "        \"groupid1\",\n",
    "        \"memberid1\",\n",
    "    ] + [col for col in df_main.columns if col.startswith(f\"cs2_{j}\")]\n",
    "\n",
    "    # Keep only the selected columns\n",
    "    df_subset = df_main[cols_to_keep]\n",
    "\n",
    "    # Rename columns by appending '_1' to each of the selected 'cs2_{j}' columns\n",
    "    for col in df_subset.columns:\n",
    "        if col.startswith(f\"cs2_{j}\"):\n",
    "            df_subset = df_subset.rename(columns={col: col[5:] + \"_1\"})\n",
    "\n",
    "    # Save the subset dataframe to a new file\n",
    "\n",
    "    df_combined = pd.concat([df_combined, df_subset], ignore_index=True)\n",
    "\n",
    "# Creating new columns\n",
    "df_combined[\"ROUND\"] = df_combined[\"subsessionround_number_1\"]\n",
    "df_combined[\"relative_playertake_1\"] = df_combined[\"playertake_1\"] / 7\n",
    "df_combined[\"relative_grouptake_1\"] = df_combined[\"grouptotal_group_take_1\"] / 21\n",
    "\n",
    "# Create start trees\n",
    "df_combined[\"start_trees_1\"] = df_combined[\"groupcurrent_trees_1\"].shift(1)\n",
    "# Replace NaN values in start_trees_1 with 100\n",
    "df_combined.loc[\n",
    "    (df_combined[\"start_trees_1\"].isna()) & (df_combined[\"ROUND\"] == 1),\n",
    "    \"start_trees_1\",\n",
    "] = 100\n",
    "\n",
    "df_combined[\"rel_starttrees_1\"] = df_combined[\"start_trees_1\"] / 100"
   ]
  },
  {
   "cell_type": "code",
   "execution_count": null,
   "metadata": {},
   "outputs": [],
   "source": [
    "df_combined"
   ]
  },
  {
   "cell_type": "code",
   "execution_count": null,
   "metadata": {},
   "outputs": [],
   "source": [
    "list_of_columns = df_combined.columns.tolist()\n",
    "print(list_of_columns)"
   ]
  },
  {
   "cell_type": "code",
   "execution_count": null,
   "metadata": {},
   "outputs": [],
   "source": [
    "# Then, create the 'othertake' variables using groupby and sum\n",
    "# We use a loop to iterate over the different member IDs\n",
    "for i in range(1, 4):\n",
    "    # Define a new column name\n",
    "    new_column = f\"othertake{i}\"\n",
    "\n",
    "    # Apply the conditional sum grouped by 'GROUPID_ALL' and 'ROUND'\n",
    "    df_combined[new_column] = df_combined.groupby([\"GROUPID_ALL\", \"ROUND\"])[\n",
    "        \"playertake_1\"\n",
    "    ].transform(lambda x: x[df_combined[\"memberid1\"] != i].sum())\n",
    "\n",
    "# Create 'other_take' variables using groupby and max\n",
    "for i in range(1, 4):\n",
    "    new_column = f\"other_take{i}\"\n",
    "    df_combined[new_column] = df_combined.groupby([\"GROUPID_ALL\", \"ROUND\"])[\n",
    "        f\"othertake{i}\"\n",
    "    ].transform(\"max\")\n",
    "\n",
    "# Initialize the 'others_take_1' column with NaNs (pandas' equivalent to Stata's \".\")\n",
    "df_combined[\"others_take_1\"] = pd.NA\n",
    "\n",
    "# Populate 'others_take_1' based on memberid1\n",
    "for i in range(1, 4):\n",
    "    df_combined.loc[df_combined[\"memberid1\"] == i, \"others_take_1\"] = df_combined[\n",
    "        f\"other_take{i}\"\n",
    "    ]\n",
    "\n",
    "\n",
    "rename_dict = {\n",
    "    \"participant_id_in_session\": \"playerid1\",\n",
    "    \"subsessionround_number_1\": \"round_num_1\",\n",
    "    \"playerplayer_history_take_1\": \"player_history_1\",\n",
    "    \"grouptotal_group_take_1\": \"total_group_take_1\",\n",
    "    \"groupcurrent_trees_after_take_1\": \"current_trees_af_1\",\n",
    "    \"groupcurrent_trees_1\": \"current_trees_1\",\n",
    "    \"groupregrowth_1\": \"regrowth_1\",\n",
    "}\n",
    "\n",
    "# Renaming the columns\n",
    "df_combined = df_combined.rename(columns=rename_dict)"
   ]
  },
  {
   "cell_type": "code",
   "execution_count": null,
   "metadata": {},
   "outputs": [],
   "source": [
    "df_combined"
   ]
  },
  {
   "cell_type": "code",
   "execution_count": null,
   "metadata": {},
   "outputs": [],
   "source": [
    "# Reorder ROUND after GROUPID\n",
    "cols_to_order = [\"PLAYER_NUM\", \"LAB_SESSION\", \"GROUPID_ALL\", \"ROUND\"]\n",
    "new_columns = cols_to_order + (df_combined.columns.drop(cols_to_order).tolist())\n",
    "df_combined = df_combined[new_columns]\n",
    "\n",
    "# Sorting the DataFrame for the following operations\n",
    "df_combined = df_combined.sort_values(by=[\"GROUPID_ALL\", \"ROUND\", \"memberid1\"])\n",
    "\n",
    "# Dropping intermediate columns\n",
    "df_combined = df_combined.drop(\n",
    "    columns=[\n",
    "        \"othertake1\",\n",
    "        \"othertake2\",\n",
    "        \"othertake3\",\n",
    "        \"other_take1\",\n",
    "        \"other_take2\",\n",
    "        \"other_take3\",\n",
    "    ],\n",
    ")\n",
    "\n",
    "# Sorting the DataFrame\n",
    "df_combined = df_combined.sort_values(by=[\"ROUND\", \"GROUPID_ALL\"])\n",
    "\n",
    "# Save the combined dataframe to a new file\n",
    "df_combined.to_feather(BLD / \"data\" / \"baseline.arrow\")"
   ]
  },
  {
   "cell_type": "code",
   "execution_count": null,
   "metadata": {},
   "outputs": [],
   "source": [
    "df_combined"
   ]
  },
  {
   "cell_type": "code",
   "execution_count": null,
   "metadata": {},
   "outputs": [],
   "source": [
    "list_of_columns = df_combined.columns.tolist()\n",
    "print(list_of_columns)"
   ]
  },
  {
   "cell_type": "code",
   "execution_count": null,
   "metadata": {},
   "outputs": [],
   "source": []
  }
 ],
 "metadata": {
  "language_info": {
   "codemirror_mode": {
    "name": "ipython",
    "version": 3
   },
   "file_extension": ".py",
   "mimetype": "text/x-python",
   "name": "python",
   "nbconvert_exporter": "python",
   "pygments_lexer": "ipython3"
  }
 },
 "nbformat": 4,
 "nbformat_minor": 2
}
