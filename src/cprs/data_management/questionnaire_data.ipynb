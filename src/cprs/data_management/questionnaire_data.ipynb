{
 "cells": [
  {
   "cell_type": "code",
   "execution_count": null,
   "metadata": {},
   "outputs": [],
   "source": [
    "import pandas as pd\n",
    "\n",
    "from cprs.config import BLD\n",
    "\n",
    "# Read the arrow file\n",
    "df_main = pd.read_feather(BLD / \"data\" / \"data_clean.arrow\")\n",
    "\n",
    "# Keeping specific variables"
   ]
  },
  {
   "cell_type": "code",
   "execution_count": null,
   "metadata": {},
   "outputs": [],
   "source": [
    "list_of_columns = df_main.columns.tolist()\n",
    "print(list_of_columns)"
   ]
  },
  {
   "cell_type": "code",
   "execution_count": null,
   "metadata": {},
   "outputs": [],
   "source": [
    "df_main"
   ]
  },
  {
   "cell_type": "code",
   "execution_count": null,
   "metadata": {},
   "outputs": [],
   "source": [
    "for j in range(1, 6):\n",
    "    columns_to_keep = (\n",
    "        [col for col in df_main.columns if col.startswith(f\"cs2_compr{j}\")]\n",
    "        + [col for col in df_main.columns if col.startswith(f\"cs3_compr{j}\")]\n",
    "        + [col for col in df_main.columns if col.startswith(f\"cs4_compr{j}\")]\n",
    "        + [\n",
    "            \"failed_attem1\",\n",
    "            \"failed_attem2\",\n",
    "            \"failed_attem3\",\n",
    "            \"PLAYER_NUM\",\n",
    "            \"LAB_SESSION\",\n",
    "            \"GROUPID_ALL\",\n",
    "            \"participant_id_in_session\",\n",
    "            \"player_cubicle\",\n",
    "            \"groupid1\",\n",
    "            \"groupid2\",\n",
    "            \"groupid3\",\n",
    "        ]\n",
    "        + [col for col in df_main.columns if col.startswith(\"quest_\")]\n",
    "    )\n",
    "\n",
    "    df_main = df_main[columns_to_keep]\n",
    "\n",
    "# Dropping empty variables\n",
    "columns_to_drop = [\n",
    "    \"quest_posrec1\",\n",
    "    \"quest_posrec1_ifyes\",\n",
    "    \"quest_altruism1\",\n",
    "    \"quest_altruism1_noansw\",\n",
    "    \"quest_q13\",\n",
    "    \"quest_q14\",\n",
    "    \"quest_q15\",\n",
    "    \"quest_q18\",\n",
    "    \"quest_q19\",\n",
    "    \"quest_q20\",\n",
    "    \"quest_q21\",\n",
    "    \"quest_q23\",\n",
    "    \"quest_q11\",\n",
    "    \"quest_q12\",\n",
    "    \"quest_subject_of_studi\",\n",
    "]\n",
    "df_main = df_main.drop(columns=columns_to_drop, errors=\"ignore\")"
   ]
  },
  {
   "cell_type": "code",
   "execution_count": null,
   "metadata": {},
   "outputs": [],
   "source": [
    "df_main"
   ]
  },
  {
   "cell_type": "code",
   "execution_count": null,
   "metadata": {},
   "outputs": [],
   "source": [
    "list_of_columns = df_main.columns.tolist()\n",
    "print(list_of_columns)"
   ]
  },
  {
   "cell_type": "code",
   "execution_count": null,
   "metadata": {},
   "outputs": [],
   "source": [
    "df_main[\"social_optimum1\"] = df_main[\"quest_playeroptimumN\"].apply(\n",
    "    lambda x: 1 if x == 3 else 0,\n",
    ")\n",
    "df_main[\"social_optimum2\"] = df_main[\"quest_playeroptimumA\"].apply(\n",
    "    lambda x: 1 if x == 3 else 0,\n",
    ")\n",
    "df_main[\"social_optimum3\"] = df_main[\"quest_playeroptimumS\"].apply(\n",
    "    lambda x: 1 if x == 3 else 0,\n",
    ")"
   ]
  },
  {
   "cell_type": "code",
   "execution_count": null,
   "metadata": {},
   "outputs": [],
   "source": [
    "df_main[\"prosocial_perception\"] = df_main[\"quest_playerslider_guess\"].apply(\n",
    "    lambda x: 1 if x > 26.3 else 0,\n",
    ")\n",
    "df_main[\"social_appropriate\"] = df_main[\"quest_playersoc_approp_pos\"].apply(\n",
    "    lambda x: 1 if x >= 2 else 0,\n",
    ")\n",
    "df_main[\"social_appropriate\"] = df_main[\"quest_playersoc_approp_neg\"].apply(\n",
    "    lambda x: 1 if x < 2 else 0,\n",
    ")\n",
    "df_main[\"prosocial_perception\"] = df_main[\"quest_playerslider_guess\"].apply(\n",
    "    lambda x: 1 if x > 26.3 else 0,\n",
    ")"
   ]
  },
  {
   "cell_type": "code",
   "execution_count": null,
   "metadata": {},
   "outputs": [],
   "source": []
  }
 ],
 "metadata": {
  "language_info": {
   "codemirror_mode": {
    "name": "ipython",
    "version": 3
   },
   "file_extension": ".py",
   "mimetype": "text/x-python",
   "name": "python",
   "nbconvert_exporter": "python",
   "pygments_lexer": "ipython3"
  }
 },
 "nbformat": 4,
 "nbformat_minor": 2
}
