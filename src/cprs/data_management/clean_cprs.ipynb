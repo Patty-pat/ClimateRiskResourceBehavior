{
 "cells": [
  {
   "cell_type": "markdown",
   "metadata": {},
   "source": [
    "### Cleaning Variable Names & Dropping Irrelevant Variables"
   ]
  },
  {
   "cell_type": "code",
   "execution_count": null,
   "metadata": {},
   "outputs": [],
   "source": [
    "import pandas as pd"
   ]
  },
  {
   "cell_type": "code",
   "execution_count": null,
   "metadata": {},
   "outputs": [],
   "source": [
    "file_path = r\"/Users/patriciasuratno/Documents/epp_project/ClimateRiskResourceBehavior/src/cprs/data/all_apps_wide_2024-01-18.csv\"\n",
    "df = pd.read_csv(file_path, engine=\"pyarrow\")"
   ]
  },
  {
   "cell_type": "code",
   "execution_count": null,
   "metadata": {},
   "outputs": [],
   "source": [
    "list_of_columns = df.columns.tolist()\n",
    "print(list_of_columns)"
   ]
  },
  {
   "cell_type": "code",
   "execution_count": null,
   "metadata": {},
   "outputs": [],
   "source": [
    "df"
   ]
  },
  {
   "cell_type": "code",
   "execution_count": null,
   "metadata": {},
   "outputs": [],
   "source": [
    "# Iterate over the columns in the dataframe\n",
    "for column in df.columns:\n",
    "    new_column = column.replace(\".\", \"\")\n",
    "    df = df.rename(columns={column: new_column})"
   ]
  },
  {
   "cell_type": "code",
   "execution_count": null,
   "metadata": {},
   "outputs": [],
   "source": [
    "list_of_columns = df.columns.tolist()\n",
    "print(list_of_columns)"
   ]
  },
  {
   "cell_type": "code",
   "execution_count": null,
   "metadata": {},
   "outputs": [],
   "source": [
    "\"\"\"Create PLAYER_NUM and set it to the row number\"\"\"\n",
    "df[\"PLAYER_NUM\"] = df.index + 1"
   ]
  },
  {
   "cell_type": "code",
   "execution_count": null,
   "metadata": {},
   "outputs": [],
   "source": [
    "# Create LAB_SESSION based on PLAYER_NUM\n",
    "df[\"LAB_SESSION\"] = pd.cut(\n",
    "    df[\"PLAYER_NUM\"],\n",
    "    bins=[0, 24, 48, float(\"inf\")],\n",
    "    labels=[1, 2, 3],\n",
    ")"
   ]
  },
  {
   "cell_type": "code",
   "execution_count": null,
   "metadata": {},
   "outputs": [],
   "source": [
    "list_of_columns = df.columns.tolist()\n",
    "print(list_of_columns)"
   ]
  },
  {
   "cell_type": "code",
   "execution_count": null,
   "metadata": {},
   "outputs": [],
   "source": [
    "df[\"GROUPID_ALL\"] = df[\"CS2_Forest5groupid_in_subsession\"]\n",
    "df.loc[df[\"LAB_SESSION\"] == 2, \"GROUPID_ALL\"] += 8\n",
    "df.loc[df[\"LAB_SESSION\"] == 3, \"GROUPID_ALL\"] += 16"
   ]
  },
  {
   "cell_type": "code",
   "execution_count": null,
   "metadata": {},
   "outputs": [],
   "source": [
    "cols_to_order = [\"PLAYER_NUM\", \"LAB_SESSION\", \"GROUPID_ALL\"]\n",
    "new_columns = cols_to_order + (df.columns.drop(cols_to_order).tolist())\n",
    "df = df[new_columns]"
   ]
  },
  {
   "cell_type": "code",
   "execution_count": null,
   "metadata": {},
   "outputs": [],
   "source": [
    "df"
   ]
  },
  {
   "cell_type": "markdown",
   "metadata": {},
   "source": [
    "### Participants identifier"
   ]
  },
  {
   "cell_type": "code",
   "execution_count": null,
   "metadata": {},
   "outputs": [],
   "source": [
    "# Get all column names starting with \"participant\"\n",
    "participant_vars = [col for col in df.columns if col.startswith(\"participant\")]\n",
    "\n",
    "for var in participant_vars:\n",
    "    new_var_name = \"participant_\" + var[11:]\n",
    "    df = df.rename(columns={var: new_var_name})"
   ]
  },
  {
   "cell_type": "code",
   "execution_count": null,
   "metadata": {},
   "outputs": [],
   "source": [
    "list_of_columns = df.columns.tolist()\n",
    "print(list_of_columns)"
   ]
  },
  {
   "cell_type": "code",
   "execution_count": null,
   "metadata": {},
   "outputs": [],
   "source": [
    "columns_to_drop = [\n",
    "    \"participant_label\",\n",
    "    \"participant__is_bot\",\n",
    "    \"participant__index_in_pages\",\n",
    "    \"participant__max_page_index\",\n",
    "    \"participant__current_app_name\",\n",
    "    \"participant__current_page_name\",\n",
    "    \"participant_mturk_worker_id\",\n",
    "    \"participant_mturk_assignment_id\",\n",
    "    \"participant_group_id\",\n",
    "    \"participant_covid_okay\",\n",
    "    \"participant_ceiling_group_take\",\n",
    "    \"participant_take_ceiling\",\n",
    "]\n",
    "df = df.drop(columns=columns_to_drop, errors=\"ignore\")"
   ]
  },
  {
   "cell_type": "code",
   "execution_count": null,
   "metadata": {},
   "outputs": [],
   "source": [
    "# Step 1: Get all column names starting with \"session\"\n",
    "session_vars = [col for col in df.columns if col.startswith(\"session\")]\n",
    "\n",
    "# Step 2: Rename these variables\n",
    "for var in session_vars:\n",
    "    new_var_name = \"s_\" + var[7:]  # Remove the first 7 characters and prepend 's_'\n",
    "    df = df.rename(columns={var: new_var_name})\n",
    "\n",
    "columns_to_drop = [\n",
    "    \"s_label\",\n",
    "    \"s_mturk_HITId\",\n",
    "    \"s_mturk_HITGroupId\",\n",
    "    \"s_comment\",\n",
    "    \"s_is_demo\",\n",
    "    \"s_configreal_world_currency_per_point\",\n",
    "    \"s_configparticipation_fee\",\n",
    "    \"s_is_shock_group\",\n",
    "    \"s_high_probability\",\n",
    "    \"s_shock_probability_high\",\n",
    "    \"s_shock_probability_low\",\n",
    "    \"s_group_id\",\n",
    "    \"s_ceiling_group_take\",\n",
    "    \"s_configname\",\n",
    "    \"s_code\",\n",
    "]\n",
    "\n",
    "# Drop the specified columns\n",
    "df = df.drop(columns=columns_to_drop, errors=\"ignore\")"
   ]
  },
  {
   "cell_type": "code",
   "execution_count": null,
   "metadata": {},
   "outputs": [],
   "source": [
    "list_of_columns = df.columns.tolist()\n",
    "print(list_of_columns)"
   ]
  },
  {
   "cell_type": "markdown",
   "metadata": {},
   "source": [
    "# Renaming CS1 Intro"
   ]
  },
  {
   "cell_type": "code",
   "execution_count": null,
   "metadata": {},
   "outputs": [],
   "source": [
    "df = df.rename(columns={\"CS1_Intro1playerid_in_group\": \"player_cubicle\"})\n",
    "\n",
    "# Label for 'player_cubicle' (Note: Pandas does not store labels like Stata. This is just a comment for reference)\n",
    "# \"Player's cubicle number in Lab Session 1\"\n",
    "\n",
    "# Step 2: Drop specific variables\n",
    "columns_to_drop = [\n",
    "    \"CS1_Intro1playerrole\",\n",
    "    \"CS1_Intro1playercode\",\n",
    "    \"CS1_Intro1playerpayoff\",\n",
    "    \"CS1_Intro1groupid_in_subsession\",\n",
    "    \"CS1_Intro1subsessionround_number\",\n",
    "]\n",
    "df = df.drop(columns=columns_to_drop, errors=\"ignore\")\n",
    "\n",
    "# Step 3: Rename a group of variables (cs1_intro1player*)\n",
    "cs1_intro1player_vars = [\n",
    "    col for col in df.columns if col.startswith(\"CS1_Intro1player\")\n",
    "]\n",
    "for var in cs1_intro1player_vars:\n",
    "    new_var_name = \"cs1_\" + var[16:]\n",
    "    df = df.rename(columns={var: new_var_name})\n",
    "\n",
    "# Step 4: Rename another group of variables (cs1_compr*)\n",
    "cs1_compr_vars = [col for col in df.columns if col.startswith(\"CS1_compr\")]\n",
    "for var in cs1_compr_vars:\n",
    "    new_var_name = \"cs2_compr\" + var[9:]\n",
    "    df = df.rename(columns={var: new_var_name})\n",
    "\n",
    "# Step 5: Rename and label another variable\n",
    "df = df.rename(columns={\"cs1_num_failed_attem\": \"failed_attem1\"})"
   ]
  },
  {
   "cell_type": "code",
   "execution_count": null,
   "metadata": {},
   "outputs": [],
   "source": []
  },
  {
   "cell_type": "code",
   "execution_count": null,
   "metadata": {},
   "outputs": [],
   "source": [
    "list_of_columns = df.columns.tolist()\n",
    "print(list_of_columns)"
   ]
  },
  {
   "cell_type": "markdown",
   "metadata": {},
   "source": [
    "# Renaming CS2 Forest"
   ]
  },
  {
   "cell_type": "code",
   "execution_count": null,
   "metadata": {},
   "outputs": [],
   "source": [
    "list_of_columns = df.columns.tolist()\n",
    "print(list_of_columns)"
   ]
  },
  {
   "cell_type": "code",
   "execution_count": null,
   "metadata": {},
   "outputs": [],
   "source": [
    "# Renaming variables that follow a pattern\n",
    "for j in range(1, 6):\n",
    "    cs2_forest_vars = [col for col in df.columns if col.startswith(f\"CS2_Forest{j}\")]\n",
    "    for var in cs2_forest_vars:\n",
    "        new_var_name = \"cs2_\" + var[10:]\n",
    "        df = df.rename(columns={var: new_var_name})"
   ]
  },
  {
   "cell_type": "code",
   "execution_count": null,
   "metadata": {},
   "outputs": [],
   "source": [
    "# Renaming certain variables\n",
    "df = df.rename(\n",
    "    columns={\n",
    "        \"cs2_5groupid_in_subsession\": \"groupid1\",\n",
    "        \"cs2_5playerid_in_group\": \"memberid1\",\n",
    "    },\n",
    ")"
   ]
  },
  {
   "cell_type": "code",
   "execution_count": null,
   "metadata": {},
   "outputs": [],
   "source": [
    "list_of_columns = df.columns.tolist()\n",
    "print(list_of_columns)"
   ]
  },
  {
   "cell_type": "code",
   "execution_count": null,
   "metadata": {},
   "outputs": [],
   "source": [
    "# Dropping specific variables\n",
    "for i in range(1, 5):\n",
    "    drop_vars = [\n",
    "        f\"cs2_{i}groupid_in_subsession\",\n",
    "        f\"cs2_{i}playerrole\",\n",
    "        f\"cs2_{i}playerid_in_group\",\n",
    "        f\"cs2_{i}playerpayoff\",\n",
    "        f\"cs2_{i}playerstage_points\",\n",
    "        f\"cs2_{i}playerpotential_payof\",\n",
    "    ]\n",
    "    df = df.drop(columns=drop_vars, errors=\"ignore\")"
   ]
  },
  {
   "cell_type": "code",
   "execution_count": null,
   "metadata": {},
   "outputs": [],
   "source": [
    "# Additional specific variables to drop\n",
    "df = df.drop(columns=[\"cs2_5playerrole\", \"cs2_5playerpayoff\"], errors=\"ignore\")"
   ]
  },
  {
   "cell_type": "markdown",
   "metadata": {},
   "source": [
    "# CS3 - Anticipation"
   ]
  },
  {
   "cell_type": "code",
   "execution_count": null,
   "metadata": {},
   "outputs": [],
   "source": [
    "# Renaming variables that follow a pattern\n",
    "for j in range(1, 6):\n",
    "    cs3_anti_vars = [col for col in df.columns if col.startswith(f\"CS3_Anti{j}\")]\n",
    "\n",
    "    for var in cs3_anti_vars:\n",
    "        new_var_name = \"cs3_\" + var[9:]\n",
    "        df = df.rename(columns={var: new_var_name})"
   ]
  },
  {
   "cell_type": "code",
   "execution_count": null,
   "metadata": {},
   "outputs": [],
   "source": [
    "# Renaming certain variables\n",
    "df = df.rename(\n",
    "    columns={\n",
    "        \"cs3_1grouphigh_probability\": \"high_probability\",\n",
    "        \"cs3_5groupid_in_subsession\": \"groupid2\",\n",
    "        \"cs3_5playerid_in_group\": \"memberid2\",\n",
    "        \"cs3_5groupshock_probability\": \"group_shock_prob_high\",\n",
    "        \"v248\": \"group_shock_prob_low\",\n",
    "        \"cs3_5groupis_shock_group\": \"shock\",\n",
    "        \"cs3_1playernum_failed_attempts\": \"failed_attem2\",\n",
    "    },\n",
    ")"
   ]
  },
  {
   "cell_type": "code",
   "execution_count": null,
   "metadata": {},
   "outputs": [],
   "source": [
    "# Dropping specific variables\n",
    "for i in range(1, 5):\n",
    "    drop_vars_i = [\n",
    "        f\"cs3_{i}playerid_in_group\",\n",
    "        f\"cs3_{i}playerrole\",\n",
    "        f\"cs3_{i}playerpayoff\",\n",
    "        f\"cs3_{i}playerstage_points\",\n",
    "        f\"cs3_{i}playerpotential_payoff\",\n",
    "        f\"cs3_{i}groupis_shock_group\",\n",
    "        f\"cs3_{i}groupshock_probability\",\n",
    "    ]\n",
    "    df = df.drop(columns=drop_vars_i, errors=\"ignore\")\n",
    "\n",
    "for i in range(2, 6):\n",
    "    drop_vars_ii = [\n",
    "        f\"cs3_{i}playercompr1\",\n",
    "        f\"cs3_{i}playercompr2\",\n",
    "        f\"cs3_{i}playercompr3\",\n",
    "        f\"cs3_{i}playercompr4\",\n",
    "        f\"cs3_{i}playernum_failed_attem\",\n",
    "        f\"cs3_{i}grouphigh_probability\",\n",
    "    ]\n",
    "    df = df.drop(columns=drop_vars_ii, errors=\"ignore\")"
   ]
  },
  {
   "cell_type": "code",
   "execution_count": null,
   "metadata": {},
   "outputs": [],
   "source": [
    "# Additional specific variables to drop\n",
    "df = df.drop(\n",
    "    columns=[\"cs3_5playerrole\", \"cs3_5playerpayoff\", \"v152\", \"v176\", \"v200\", \"v224\"],\n",
    "    errors=\"ignore\",\n",
    ")"
   ]
  },
  {
   "cell_type": "code",
   "execution_count": null,
   "metadata": {},
   "outputs": [],
   "source": [
    "list_of_columns = df.columns.tolist()\n",
    "print(list_of_columns)"
   ]
  },
  {
   "cell_type": "markdown",
   "metadata": {},
   "source": [
    "# CS4 - Shock"
   ]
  },
  {
   "cell_type": "code",
   "execution_count": null,
   "metadata": {},
   "outputs": [],
   "source": [
    "list_of_columns = df.columns.tolist()\n",
    "print(list_of_columns)"
   ]
  },
  {
   "cell_type": "code",
   "execution_count": null,
   "metadata": {},
   "outputs": [],
   "source": [
    "for j in range(1, 6):\n",
    "    cs4_shock_vars = [col for col in df.columns if col.startswith(f\"CS4_Shock{j}\")]\n",
    "    for var in cs4_shock_vars:\n",
    "        new_var_name = \"cs4_\" + var[9:]\n",
    "        df = df.rename(columns={var: new_var_name})\n",
    "\n",
    "cs4_compr_vars = [col for col in df.columns if col.startswith(\"cs4_1playercompr\")]\n",
    "for var in cs4_compr_vars:\n",
    "    new_var_name = \"cs4_\" + var[11:]\n",
    "    df = df.rename(columns={var: new_var_name})\n",
    "\n",
    "# Renaming certain variables\n",
    "df = df.rename(\n",
    "    columns={\n",
    "        \"cs4_1playernum_failed_attempts\": \"failed_attem3\",\n",
    "        \"cs4_5groupid_in_subsession\": \"groupid3\",\n",
    "        \"cs4_5playerid_in_group\": \"memberid3\",\n",
    "    },\n",
    ")"
   ]
  },
  {
   "cell_type": "code",
   "execution_count": null,
   "metadata": {},
   "outputs": [],
   "source": [
    "# Dropping specific variables\n",
    "for i in range(1, 5):\n",
    "    drop_vars_i = [\n",
    "        f\"cs4_{i}playerstage_points\",\n",
    "        f\"cs4_{i}playerpotential_payoff\",\n",
    "        f\"cs4_{i}groupid_in_subsession\",\n",
    "    ]\n",
    "    df = df.drop(columns=drop_vars_i, errors=\"ignore\")\n",
    "\n",
    "for i in range(2, 6):\n",
    "    drop_vars_ii = [\n",
    "        f\"cs4_{i}playercompr1\",\n",
    "        f\"cs4_{i}playercompr2\",\n",
    "        f\"cs4_{i}playercompr3\",\n",
    "        f\"cs4_{i}playercompr4\",\n",
    "        f\"cs4_{i}playernum_failed_attempts\",\n",
    "    ]\n",
    "    df = df.drop(columns=drop_vars_ii, errors=\"ignore\")\n",
    "\n",
    "drop_vars_extra = [f\"cs4_{i}playerrole\", f\"cs4_{i}playerpayoff\"] + [\n",
    "    f\"cs4_{i}playertake_max{j}\" for i in range(1, 6) for j in range(7, -1, -1)\n",
    "]\n",
    "df = df.drop(columns=drop_vars_extra, errors=\"ignore\")"
   ]
  },
  {
   "cell_type": "code",
   "execution_count": null,
   "metadata": {},
   "outputs": [],
   "source": [
    "list_of_columns = df.columns.tolist()\n",
    "print(list_of_columns)"
   ]
  },
  {
   "cell_type": "code",
   "execution_count": null,
   "metadata": {},
   "outputs": [],
   "source": [
    "df"
   ]
  },
  {
   "cell_type": "markdown",
   "metadata": {},
   "source": [
    "## CS5 - Questionnaire"
   ]
  },
  {
   "cell_type": "code",
   "execution_count": null,
   "metadata": {},
   "outputs": [],
   "source": [
    "list_of_columns = df.columns.tolist()\n",
    "print(list_of_columns)"
   ]
  },
  {
   "cell_type": "code",
   "execution_count": null,
   "metadata": {},
   "outputs": [],
   "source": [
    "# Renaming variables that follow a pattern\n",
    "quest_vars = [col for col in df.columns if col.startswith(\"CS5_Quest1player\")]\n",
    "for var in quest_vars:\n",
    "    new_var_name = \"quest_\" + var[16:]\n",
    "    df = df.rename(columns={var: new_var_name})\n",
    "\n",
    "\n",
    "# Dropping empty variables\n",
    "columns_to_drop = [\n",
    "    \"quest_role\",\n",
    "    \"quest_payoff\",\n",
    "    \"quest_posrec1\",\n",
    "    \"quest_posrec1_ifyes\",\n",
    "    \"quest_altruism1\",\n",
    "    \"quest_altruism1_noanswer\",\n",
    "    \"quest_q13\",\n",
    "    \"quest_q14\",\n",
    "    \"quest_q15\",\n",
    "    \"quest_q18\",\n",
    "    \"quest_q19\",\n",
    "    \"quest_q20\",\n",
    "    \"quest_q21\",\n",
    "    \"quest_q23\",\n",
    "    \"quest_q11\",\n",
    "    \"quest_q12\",\n",
    "    \"quest_subject_of_studi\",\n",
    "    \"CS5_Quest1groupid_in_subsession\",\n",
    "    \"CS5_Quest1subsessionround_number\",\n",
    "]\n",
    "df = df.drop(columns=columns_to_drop, errors=\"ignore\")"
   ]
  },
  {
   "cell_type": "code",
   "execution_count": null,
   "metadata": {},
   "outputs": [],
   "source": [
    "# Saving the DataFrame"
   ]
  },
  {
   "cell_type": "code",
   "execution_count": null,
   "metadata": {},
   "outputs": [],
   "source": [
    "list_of_columns = df.columns.tolist()\n",
    "print(list_of_columns)"
   ]
  },
  {
   "cell_type": "code",
   "execution_count": null,
   "metadata": {},
   "outputs": [],
   "source": [
    "df"
   ]
  }
 ],
 "metadata": {
  "language_info": {
   "codemirror_mode": {
    "name": "ipython",
    "version": 3
   },
   "file_extension": ".py",
   "mimetype": "text/x-python",
   "name": "python",
   "nbconvert_exporter": "python",
   "pygments_lexer": "ipython3"
  }
 },
 "nbformat": 4,
 "nbformat_minor": 2
}
